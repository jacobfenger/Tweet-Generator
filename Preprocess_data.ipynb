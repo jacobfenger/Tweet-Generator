{
 "cells": [
  {
   "cell_type": "code",
   "execution_count": 70,
   "metadata": {},
   "outputs": [],
   "source": [
    "import numpy as numpy\n",
    "import pandas as pd\n",
    "import os\n",
    "import re\n",
    "# from keras.preprocessing.text import Tokenizer\n",
    "# from keras.preprocessing.sequence import pad_sequences"
   ]
  },
  {
   "cell_type": "markdown",
   "metadata": {},
   "source": [
    "# Input Data"
   ]
  },
  {
   "cell_type": "code",
   "execution_count": 5,
   "metadata": {},
   "outputs": [
    {
     "name": "stdout",
     "output_type": "stream",
     "text": [
      "0    @switchfoot http://twitpic.com/2y1zl - Awww, t...\n",
      "1    is upset that he can't update his Facebook by ...\n",
      "2    @Kenichan I dived many times for the ball. Man...\n",
      "3      my whole body feels itchy and like its on fire \n",
      "4    @nationwideclass no, it's not behaving at all....\n",
      "Name: 5, dtype: object\n"
     ]
    }
   ],
   "source": [
    "# grab only the tweets from the input file\n",
    "\n",
    "df = pd.read_csv(\"../training_data.csv\", encoding = \"ISO-8859-1\", header=None).iloc[:, 5]\n",
    "\n",
    "print(df.head())\n"
   ]
  },
  {
   "cell_type": "markdown",
   "metadata": {},
   "source": [
    "# Preprocess Tweets"
   ]
  },
  {
   "cell_type": "code",
   "execution_count": 64,
   "metadata": {},
   "outputs": [],
   "source": [
    "# process a single tweet\n",
    "def preprocess(tweet):\n",
    "    tweet.lower()\n",
    "    \n",
    "    # remove urls\n",
    "    tweet = re.sub('((www\\.\\w+\\.\\w+) | (https?://\\w+\\.\\w+))', '', tweet)\n",
    "    \n",
    "    #remove emails\n",
    "    tweet = re.sub('(\\w+)\\s*(?:@|&#x40\\.|\\s+[aA][tT]\\s+|\\s*\\(\\s*[aA][tT]\\s*\\)\\s*)\\s*([\\w\\s\\.]+)\\s*\\.\\s*([eE][dD][uU]|[cC][oO][mM]|[gG][oO][vV]|[oO][rR][gG])', '', tweet)\n",
    "    \n",
    "    # remove hashtag from the front of the topic\n",
    "    tweet = re.sub('#(\\w+)', r'\\1', tweet)\n",
    "    \n",
    "    # remove @users\n",
    "    tweet = re.sub('\\s*@\\w+\\s*', '', tweet)\n",
    "    \n",
    "    # remove multiple spaces with only one space\n",
    "    tweet = re.sub('\\s+', ' ', tweet)\n",
    "    \n",
    "    return tweet "
   ]
  },
  {
   "cell_type": "code",
   "execution_count": 66,
   "metadata": {},
   "outputs": [],
   "source": [
    "preprocessed_tweets = df.apply(preprocess).values"
   ]
  },
  {
   "cell_type": "code",
   "execution_count": 67,
   "metadata": {},
   "outputs": [
    {
     "data": {
      "text/plain": [
       "array([\"/2y1zl - Awww, that's a bummer. You shoulda got David Carr of Third Day to do it. ;D\",\n",
       "       \"is upset that he can't update his Facebook by texting it... and might cry as a result School today also. Blah!\",\n",
       "       'I dived many times for the ball. Managed to save 50% The rest go out of bounds',\n",
       "       'my whole body feels itchy and like its on fire ',\n",
       "       \"no, it's not behaving at all. i'm mad. why am i here? because I can't see you all over there. \",\n",
       "       'not the whole crew ', 'Need a hug ',\n",
       "       \"hey long time no see! Yes.. Rains a bit ,only a bit LOL , I'm fine thanks , how's you ?\",\n",
       "       \"nope they didn't have it \", 'que me muera ? '], dtype=object)"
      ]
     },
     "execution_count": 67,
     "metadata": {},
     "output_type": "execute_result"
    }
   ],
   "source": [
    "tweets_df[:10]"
   ]
  },
  {
   "cell_type": "markdown",
   "metadata": {},
   "source": [
    "# Tokenize Tweets"
   ]
  },
  {
   "cell_type": "code",
   "execution_count": null,
   "metadata": {},
   "outputs": [],
   "source": [
    "# max number of words in the vocabulary\n",
    "max_features = 450000\n",
    "\n",
    "# max length for the tweets\n",
    "maxlen = 70\n",
    "\n",
    "tokenizer = Tokenizer(num_words=max_features)\n",
    "\n",
    "# fit on the tweets vocabulary\n",
    "tokenizer.fit_on_texts(preprocessed_tweets)\n",
    "\n",
    "# convert from string to tokens\n",
    "tokenized_tweets = tokenizer.texts_to_sequences(preprocessed_tweets)\n",
    "\n",
    "# keep all the tweets of the same length\n",
    "tweets_train = pad_sequences(tokenized_tweets, maxlen=maxlen)"
   ]
  }
 ],
 "metadata": {
  "kernelspec": {
   "display_name": "Python 3",
   "language": "python",
   "name": "python3"
  },
  "language_info": {
   "codemirror_mode": {
    "name": "ipython",
    "version": 3
   },
   "file_extension": ".py",
   "mimetype": "text/x-python",
   "name": "python",
   "nbconvert_exporter": "python",
   "pygments_lexer": "ipython3",
   "version": "3.6.5"
  }
 },
 "nbformat": 4,
 "nbformat_minor": 2
}
