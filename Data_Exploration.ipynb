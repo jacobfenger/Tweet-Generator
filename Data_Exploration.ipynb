{
 "cells": [
  {
   "cell_type": "code",
   "execution_count": 70,
   "metadata": {},
   "outputs": [
    {
     "data": {
      "text/html": [
       "<script>requirejs.config({paths: { 'plotly': ['https://cdn.plot.ly/plotly-latest.min']},});if(!window.Plotly) {{require(['plotly'],function(plotly) {window.Plotly=plotly;});}}</script>"
      ],
      "text/vnd.plotly.v1+html": [
       "<script>requirejs.config({paths: { 'plotly': ['https://cdn.plot.ly/plotly-latest.min']},});if(!window.Plotly) {{require(['plotly'],function(plotly) {window.Plotly=plotly;});}}</script>"
      ]
     },
     "metadata": {},
     "output_type": "display_data"
    }
   ],
   "source": [
    "import pandas as pd\n",
    "import numpy as np\n",
    "\n",
    "import plotly.offline as py\n",
    "py.init_notebook_mode(connected=True)\n",
    "import plotly.graph_objs \n",
    "import plotly.tools\n",
    "\n",
    "from PIL import Image\n",
    "\n",
    "from wordcloud import WordCloud, STOPWORDS, ImageColorGenerator"
   ]
  },
  {
   "cell_type": "code",
   "execution_count": 2,
   "metadata": {},
   "outputs": [
    {
     "name": "stdout",
     "output_type": "stream",
     "text": [
      "0    @switchfoot http://twitpic.com/2y1zl - Awww, t...\n",
      "1    is upset that he can't update his Facebook by ...\n",
      "2    @Kenichan I dived many times for the ball. Man...\n",
      "3      my whole body feels itchy and like its on fire \n",
      "4    @nationwideclass no, it's not behaving at all....\n",
      "Name: 5, dtype: object\n"
     ]
    }
   ],
   "source": [
    "df = pd.read_csv(\"../training_data.csv\", encoding = \"ISO-8859-1\", header=None).iloc[:, 5]\n",
    "\n",
    "print(df.head())"
   ]
  },
  {
   "cell_type": "markdown",
   "metadata": {},
   "source": [
    "# Data Exploration"
   ]
  },
  {
   "cell_type": "code",
   "execution_count": 23,
   "metadata": {},
   "outputs": [
    {
     "data": {
      "text/plain": [
       "(74.09011125, 36.44113875397364, 374)"
      ]
     },
     "execution_count": 23,
     "metadata": {},
     "output_type": "execute_result"
    }
   ],
   "source": [
    "tweet_length = df.iloc[:,].str.len()\n",
    "\n",
    "tweet_length.mean(), tweet_length.std(), tweet_length.max()"
   ]
  },
  {
   "cell_type": "code",
   "execution_count": 24,
   "metadata": {},
   "outputs": [
    {
     "data": {
      "text/plain": [
       "<matplotlib.axes._subplots.AxesSubplot at 0x1114a6a20>"
      ]
     },
     "execution_count": 24,
     "metadata": {},
     "output_type": "execute_result"
    },
    {
     "data": {
      "image/png": "[encoded data removed]",
      "text/plain": [
       "<Figure size 432x288 with 1 Axes>"
      ]
     },
     "metadata": {},
     "output_type": "display_data"
    }
   ],
   "source": [
    "tweet_length.hist()"
   ]
  },
  {
   "cell_type": "markdown",
   "metadata": {},
   "source": [
    "# Wordcloud"
   ]
  },
  {
   "cell_type": "code",
   "execution_count": null,
   "metadata": {},
   "outputs": [],
   "source": [
    "vocab = df.iloc[:,].str.split(expand=True).unstack().value_counts()"
   ]
  },
  {
   "cell_type": "code",
   "execution_count": 55,
   "metadata": {},
   "outputs": [
    {
     "data": {
      "application/vnd.plotly.v1+json": {
       "data": [
        {
         "marker": {
          "color": [
           552962,
           496619,
           487501,
           366212,
           280025,
           275263,
           250016,
           217693,
           213871,
           209801,
           202294,
           179554,
           171812,
           154365,
           132249,
           125155,
           122509,
           118685,
           110843,
           108069,
           106272,
           102196,
           99559,
           99140,
           96284,
           88110,
           77810,
           76734,
           73302,
           72568,
           70007,
           67901,
           67079,
           67030,
           62969,
           60854,
           59775,
           55748,
           54628,
           54182,
           53871,
           53591,
           53236,
           50051,
           49622,
           46708,
           45913,
           45898,
           44033,
           43568,
           43422,
           42745,
           42724,
           42506,
           42472,
           42152,
           41548,
           41343,
           41338,
           41082,
           40634,
           40131,
           39570,
           39438,
           39218,
           38788,
           37601,
           37355,
           36423,
           36356,
           35590,
           35441,
           35196,
           35055,
           35005,
           34779,
           34074,
           33135,
           32923,
           32697,
           31898,
           31368,
           31186,
           30588,
           30498,
           29602,
           29404,
           28980,
           27961,
           27837,
           27676,
           27412,
           27237,
           27116,
           27068,
           26882,
           26836,
           26520,
           26389,
           25245
          ],
          "colorscale": "Jet"
         },
         "text": "Frequency",
         "type": "bar",
         "uid": "7d61176e-dc61-11e8-af31-8c8590cada19",
         "x": [
          "to",
          "I",
          "the",
          "a",
          "my",
          "and",
          "i",
          "is",
          "you",
          "for",
          "in",
          "of",
          "it",
          "on",
          "have",
          "so",
          "me",
          "that",
          "with",
          "be",
          "but",
          "at",
          "I'm",
          "was",
          "just",
          "not",
          "this",
          "get",
          "like",
          "are",
          "up",
          "all",
          "-",
          "out",
          "go",
          "your",
          "good",
          "day",
          "do",
          "from",
          "got",
          "now",
          "going",
          "love",
          "no",
          "about",
          "work",
          "will",
          "back"
         ],
         "y": [
          552962,
          496619,
          487501,
          366212,
          280025,
          275263,
          250016,
          217693,
          213871,
          209801,
          202294,
          179554,
          171812,
          154365,
          132249,
          125155,
          122509,
          118685,
          110843,
          108069,
          106272,
          102196,
          99559,
          99140,
          96284,
          88110,
          77810,
          76734,
          73302,
          72568,
          70007,
          67901,
          67079,
          67030,
          62969,
          60854,
          59775,
          55748,
          54628,
          54182,
          53871,
          53591,
          53236,
          50051,
          49622,
          46708,
          45913,
          45898,
          44033
         ]
        }
       ],
       "layout": {
        "title": "Top 50 word counts in the tweets"
       }
      },
      "text/html": [
       "<div id=\"8d8f32c9-edfd-4274-a744-0eb22dd97924\" style=\"height: 525px; width: 100%;\" class=\"plotly-graph-div\"></div><script type=\"text/javascript\">require([\"plotly\"], function(Plotly) { window.PLOTLYENV=window.PLOTLYENV || {};window.PLOTLYENV.BASE_URL=\"https://plot.ly\";Plotly.newPlot(\"8d8f32c9-edfd-4274-a744-0eb22dd97924\", [{\"marker\": {\"color\": [552962, 496619, 487501, 366212, 280025, 275263, 250016, 217693, 213871, 209801, 202294, 179554, 171812, 154365, 132249, 125155, 122509, 118685, 110843, 108069, 106272, 102196, 99559, 99140, 96284, 88110, 77810, 76734, 73302, 72568, 70007, 67901, 67079, 67030, 62969, 60854, 59775, 55748, 54628, 54182, 53871, 53591, 53236, 50051, 49622, 46708, 45913, 45898, 44033, 43568, 43422, 42745, 42724, 42506, 42472, 42152, 41548, 41343, 41338, 41082, 40634, 40131, 39570, 39438, 39218, 38788, 37601, 37355, 36423, 36356, 35590, 35441, 35196, 35055, 35005, 34779, 34074, 33135, 32923, 32697, 31898, 31368, 31186, 30588, 30498, 29602, 29404, 28980, 27961, 27837, 27676, 27412, 27237, 27116, 27068, 26882, 26836, 26520, 26389, 25245], \"colorscale\": \"Jet\"}, \"text\": \"Frequency\", \"x\": [\"to\", \"I\", \"the\", \"a\", \"my\", \"and\", \"i\", \"is\", \"you\", \"for\", \"in\", \"of\", \"it\", \"on\", \"have\", \"so\", \"me\", \"that\", \"with\", \"be\", \"but\", \"at\", \"I'm\", \"was\", \"just\", \"not\", \"this\", \"get\", \"like\", \"are\", \"up\", \"all\", \"-\", \"out\", \"go\", \"your\", \"good\", \"day\", \"do\", \"from\", \"got\", \"now\", \"going\", \"love\", \"no\", \"about\", \"work\", \"will\", \"back\"], \"y\": [552962, 496619, 487501, 366212, 280025, 275263, 250016, 217693, 213871, 209801, 202294, 179554, 171812, 154365, 132249, 125155, 122509, 118685, 110843, 108069, 106272, 102196, 99559, 99140, 96284, 88110, 77810, 76734, 73302, 72568, 70007, 67901, 67079, 67030, 62969, 60854, 59775, 55748, 54628, 54182, 53871, 53591, 53236, 50051, 49622, 46708, 45913, 45898, 44033], \"type\": \"bar\", \"uid\": \"7d61176e-dc61-11e8-af31-8c8590cada19\"}], {\"title\": \"Top 50 word counts in the tweets\"}, {\"showLink\": true, \"linkText\": \"Export to plot.ly\"})});</script>"
      ],
      "text/vnd.plotly.v1+html": [
       "<div id=\"8d8f32c9-edfd-4274-a744-0eb22dd97924\" style=\"height: 525px; width: 100%;\" class=\"plotly-graph-div\"></div><script type=\"text/javascript\">require([\"plotly\"], function(Plotly) { window.PLOTLYENV=window.PLOTLYENV || {};window.PLOTLYENV.BASE_URL=\"https://plot.ly\";Plotly.newPlot(\"8d8f32c9-edfd-4274-a744-0eb22dd97924\", [{\"marker\": {\"color\": [552962, 496619, 487501, 366212, 280025, 275263, 250016, 217693, 213871, 209801, 202294, 179554, 171812, 154365, 132249, 125155, 122509, 118685, 110843, 108069, 106272, 102196, 99559, 99140, 96284, 88110, 77810, 76734, 73302, 72568, 70007, 67901, 67079, 67030, 62969, 60854, 59775, 55748, 54628, 54182, 53871, 53591, 53236, 50051, 49622, 46708, 45913, 45898, 44033, 43568, 43422, 42745, 42724, 42506, 42472, 42152, 41548, 41343, 41338, 41082, 40634, 40131, 39570, 39438, 39218, 38788, 37601, 37355, 36423, 36356, 35590, 35441, 35196, 35055, 35005, 34779, 34074, 33135, 32923, 32697, 31898, 31368, 31186, 30588, 30498, 29602, 29404, 28980, 27961, 27837, 27676, 27412, 27237, 27116, 27068, 26882, 26836, 26520, 26389, 25245], \"colorscale\": \"Jet\"}, \"text\": \"Frequency\", \"x\": [\"to\", \"I\", \"the\", \"a\", \"my\", \"and\", \"i\", \"is\", \"you\", \"for\", \"in\", \"of\", \"it\", \"on\", \"have\", \"so\", \"me\", \"that\", \"with\", \"be\", \"but\", \"at\", \"I'm\", \"was\", \"just\", \"not\", \"this\", \"get\", \"like\", \"are\", \"up\", \"all\", \"-\", \"out\", \"go\", \"your\", \"good\", \"day\", \"do\", \"from\", \"got\", \"now\", \"going\", \"love\", \"no\", \"about\", \"work\", \"will\", \"back\"], \"y\": [552962, 496619, 487501, 366212, 280025, 275263, 250016, 217693, 213871, 209801, 202294, 179554, 171812, 154365, 132249, 125155, 122509, 118685, 110843, 108069, 106272, 102196, 99559, 99140, 96284, 88110, 77810, 76734, 73302, 72568, 70007, 67901, 67079, 67030, 62969, 60854, 59775, 55748, 54628, 54182, 53871, 53591, 53236, 50051, 49622, 46708, 45913, 45898, 44033], \"type\": \"bar\", \"uid\": \"7d61176e-dc61-11e8-af31-8c8590cada19\"}], {\"title\": \"Top 50 word counts in the tweets\"}, {\"showLink\": true, \"linkText\": \"Export to plot.ly\"})});</script>"
      ]
     },
     "metadata": {},
     "output_type": "display_data"
    }
   ],
   "source": [
    "graph = [plotly.graph_objs.Bar(\n",
    "            x = vocab.index.values[0:49],\n",
    "            y = vocab.values[0:49],\n",
    "            marker = dict(colorscale='Jet', color = vocab.values[0:100]),\n",
    "            text = 'Frequency'\n",
    "        )]\n",
    "layout = plotly.graph_objs.Layout(title='Top 50 word counts in the tweets')\n",
    "\n",
    "figure = plotly.graph_objs.Figure(data=graph, layout=layout)\n",
    "\n",
    "py.iplot(figure)"
   ]
  },
  {
   "cell_type": "code",
   "execution_count": 76,
   "metadata": {},
   "outputs": [],
   "source": [
    "words= df.iloc[:,].values"
   ]
  },
  {
   "cell_type": "code",
   "execution_count": 79,
   "metadata": {},
   "outputs": [],
   "source": [
    "def word_cloud(title, word_list, bg_color, image_path):\n",
    "    mask=np.array(Image.open(mask_path))\n",
    "    mask=mask[:,:,1]\n",
    "    plt.figure(figsize=(10,10), dpi=300)\n",
    "    wc = WordCloud(max_words=400, mask=mask\n",
    "                 , stopwords=STOPWORDS, max_font_size= 80, collocations=False, random_state=5)\n",
    "    wc.generate(\" \".join(word_list))\n",
    "    plt.title(title +\" Tweets - WordCloud\", fontsize=24)\n",
    "\n",
    "    plt.imshow(wc.recolor( colormap='Pastel1_r', random_state=1), alpha=0.98)\n",
    "    plt.axis('off')\n",
    "    plt.close()"
   ]
  },
  {
   "cell_type": "code",
   "execution_count": 80,
   "metadata": {},
   "outputs": [
    {
     "ename": "NameError",
     "evalue": "name 'mask_path' is not defined",
     "output_type": "error",
     "traceback": [
      "\u001b[0;31m---------------------------------------\u001b[0m",
      "\u001b[0;31mNameError\u001b[0mTraceback (most recent call last)",
      "\u001b[0;32m<ipython-input-80-17647b1c834a>\u001b[0m in \u001b[0;36m<module>\u001b[0;34m()\u001b[0m\n\u001b[1;32m      2\u001b[0m                \u001b[0mword_list\u001b[0m\u001b[0;34m=\u001b[0m\u001b[0mwords\u001b[0m\u001b[0;34m,\u001b[0m\u001b[0;34m\u001b[0m\u001b[0m\n\u001b[1;32m      3\u001b[0m                \u001b[0mbg_color\u001b[0m\u001b[0;34m=\u001b[0m\u001b[0;34m'black'\u001b[0m\u001b[0;34m,\u001b[0m\u001b[0;34m\u001b[0m\u001b[0m\n\u001b[0;32m----> 4\u001b[0;31m                image_path='../images/twitter.jpg')\n\u001b[0m",
      "\u001b[0;32m<ipython-input-79-147de2b33d4a>\u001b[0m in \u001b[0;36mword_cloud\u001b[0;34m(title, word_list, bg_color, image_path)\u001b[0m\n\u001b[1;32m      1\u001b[0m \u001b[0;32mdef\u001b[0m \u001b[0mword_cloud\u001b[0m\u001b[0;34m(\u001b[0m\u001b[0mtitle\u001b[0m\u001b[0;34m,\u001b[0m \u001b[0mword_list\u001b[0m\u001b[0;34m,\u001b[0m \u001b[0mbg_color\u001b[0m\u001b[0;34m,\u001b[0m \u001b[0mimage_path\u001b[0m\u001b[0;34m)\u001b[0m\u001b[0;34m:\u001b[0m\u001b[0;34m\u001b[0m\u001b[0m\n\u001b[0;32m----> 2\u001b[0;31m     \u001b[0mmask\u001b[0m\u001b[0;34m=\u001b[0m\u001b[0mnp\u001b[0m\u001b[0;34m.\u001b[0m\u001b[0marray\u001b[0m\u001b[0;34m(\u001b[0m\u001b[0mImage\u001b[0m\u001b[0;34m.\u001b[0m\u001b[0mopen\u001b[0m\u001b[0;34m(\u001b[0m\u001b[0mmask_path\u001b[0m\u001b[0;34m)\u001b[0m\u001b[0;34m)\u001b[0m\u001b[0;34m\u001b[0m\u001b[0m\n\u001b[0m\u001b[1;32m      3\u001b[0m     \u001b[0mmask\u001b[0m\u001b[0;34m=\u001b[0m\u001b[0mmask\u001b[0m\u001b[0;34m[\u001b[0m\u001b[0;34m:\u001b[0m\u001b[0;34m,\u001b[0m\u001b[0;34m:\u001b[0m\u001b[0;34m,\u001b[0m\u001b[0;36m1\u001b[0m\u001b[0;34m]\u001b[0m\u001b[0;34m\u001b[0m\u001b[0m\n\u001b[1;32m      4\u001b[0m     \u001b[0mplt\u001b[0m\u001b[0;34m.\u001b[0m\u001b[0mfigure\u001b[0m\u001b[0;34m(\u001b[0m\u001b[0mfigsize\u001b[0m\u001b[0;34m=\u001b[0m\u001b[0;34m(\u001b[0m\u001b[0;36m10\u001b[0m\u001b[0;34m,\u001b[0m\u001b[0;36m10\u001b[0m\u001b[0;34m)\u001b[0m\u001b[0;34m,\u001b[0m \u001b[0mdpi\u001b[0m\u001b[0;34m=\u001b[0m\u001b[0;36m300\u001b[0m\u001b[0;34m)\u001b[0m\u001b[0;34m\u001b[0m\u001b[0m\n\u001b[1;32m      5\u001b[0m     wc = WordCloud(max_words=400, mask=mask\n",
      "\u001b[0;31mNameError\u001b[0m: name 'mask_path' is not defined"
     ]
    }
   ],
   "source": [
    "word_cloud(title=\"Tweets\", \n",
    "               word_list=words, \n",
    "               bg_color='black', \n",
    "               image_path='../images/twitter.jpg')"
   ]
  },
  {
   "cell_type": "code",
   "execution_count": null,
   "metadata": {},
   "outputs": [],
   "source": []
  }
 ],
 "metadata": {
  "kernelspec": {
   "display_name": "Python 3",
   "language": "python",
   "name": "python3"
  },
  "language_info": {
   "codemirror_mode": {
    "name": "ipython",
    "version": 3
   },
   "file_extension": ".py",
   "mimetype": "text/x-python",
   "name": "python",
   "nbconvert_exporter": "python",
   "pygments_lexer": "ipython3",
   "version": "3.6.5"
  }
 },
 "nbformat": 4,
 "nbformat_minor": 2
}
