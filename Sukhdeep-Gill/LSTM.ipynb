{
 "cells": [
  {
   "cell_type": "code",
   "execution_count": 1,
   "metadata": {},
   "outputs": [
    {
     "name": "stderr",
     "output_type": "stream",
     "text": [
      "Using TensorFlow backend.\n"
     ]
    }
   ],
   "source": [
    "import pandas as pd\n",
    "import numpy as np\n",
    "import re\n",
    "from keras.models import Sequential\n",
    "from keras.layers import Dense, Dropout, LSTM\n",
    "from keras.callbacks import ModelCheckpoint\n",
    "from keras.utils import np_utils\n",
    "from keras.preprocessing.text import Tokenizer\n",
    "from keras.preprocessing.sequence import pad_sequences"
   ]
  },
  {
   "cell_type": "markdown",
   "metadata": {},
   "source": [
    "# Read Input"
   ]
  },
  {
   "cell_type": "code",
   "execution_count": 4,
   "metadata": {
    "collapsed": true
   },
   "outputs": [],
   "source": [
    "def readInputFile(fileName):\n",
    "    df = pd.read_csv(fileName, encoding = \"ISO-8859-1\", header=None).iloc[:, 5]\n",
    "    \n",
    "    return df"
   ]
  },
  {
   "cell_type": "code",
   "execution_count": 5,
   "metadata": {},
   "outputs": [
    {
     "name": "stdout",
     "output_type": "stream",
     "text": [
      "0    @switchfoot http://twitpic.com/2y1zl - Awww, t...\n",
      "1    is upset that he can't update his Facebook by ...\n",
      "2    @Kenichan I dived many times for the ball. Man...\n",
      "3      my whole body feels itchy and like its on fire \n",
      "4    @nationwideclass no, it's not behaving at all....\n",
      "Name: 5, dtype: object\n"
     ]
    }
   ],
   "source": [
    "df = readInputFile(\"training_data.csv\")\n",
    "print(df.head())"
   ]
  },
  {
   "cell_type": "markdown",
   "metadata": {},
   "source": [
    "# Preprocessing Data"
   ]
  },
  {
   "cell_type": "code",
   "execution_count": 6,
   "metadata": {
    "collapsed": true
   },
   "outputs": [],
   "source": [
    "# process a single tweet\n",
    "def preprocess(tweet):\n",
    "    \n",
    "    # lowercase all the tweets\n",
    "    tweet = tweet.lower()\n",
    "    \n",
    "    # remove urls\n",
    "    tweet = re.sub('((www\\.\\w+\\.\\w+) | (https?://\\w+\\.\\w+))', '', tweet)\n",
    "    \n",
    "    #remove emails\n",
    "    tweet = re.sub('(\\w+)\\s*(?:@|&#x40\\.|\\s+[aA][tT]\\s+|\\s*\\(\\s*[aA][tT]\\s*\\)\\s*)\\s*([\\w\\s\\.]+)\\s*\\.\\s*([eE][dD][uU]|[cC][oO][mM]|[gG][oO][vV]|[oO][rR][gG])', '', tweet)\n",
    "    \n",
    "    # remove hashtag from the front of the topic\n",
    "    tweet = re.sub('#(\\w+)', r'\\1', tweet)\n",
    "    \n",
    "    # remove @users\n",
    "    tweet = re.sub('\\s*@\\w+\\s*', '', tweet)\n",
    "    \n",
    "    # remove multiple spaces with only one space\n",
    "    tweet = re.sub('\\s+', ' ', tweet)\n",
    "    \n",
    "    return tweet "
   ]
  },
  {
   "cell_type": "code",
   "execution_count": 7,
   "metadata": {
    "collapsed": true
   },
   "outputs": [],
   "source": [
    "preprocessed_tweets = df.apply(preprocess).values"
   ]
  },
  {
   "cell_type": "code",
   "execution_count": 8,
   "metadata": {},
   "outputs": [
    {
     "data": {
      "text/plain": [
       "array([ \"/2y1zl - awww, that's a bummer. you shoulda got david carr of third day to do it. ;d\",\n",
       "       \"is upset that he can't update his facebook by texting it... and might cry as a result school today also. blah!\",\n",
       "       'i dived many times for the ball. managed to save 50% the rest go out of bounds',\n",
       "       'my whole body feels itchy and like its on fire ',\n",
       "       \"no, it's not behaving at all. i'm mad. why am i here? because i can't see you all over there. \"], dtype=object)"
      ]
     },
     "execution_count": 8,
     "metadata": {},
     "output_type": "execute_result"
    }
   ],
   "source": [
    "preprocessed_tweets[:5]"
   ]
  },
  {
   "cell_type": "code",
   "execution_count": 36,
   "metadata": {
    "collapsed": true
   },
   "outputs": [],
   "source": [
    "# # max number of words in the vocabulary\n",
    "# max_features = 450000\n",
    "\n",
    "# # max length for the tweets\n",
    "# maxlen = 70\n",
    "\n",
    "# tokenizer = Tokenizer(num_words=max_features)\n",
    "\n",
    "# # fit on the tweets vocabulary\n",
    "# tokenizer.fit_on_texts(preprocessed_tweets)\n",
    "\n",
    "# # convert from string to tokens\n",
    "# tokenized_tweets = tokenizer.texts_to_sequences(preprocessed_tweets)\n",
    "\n",
    "# # keep all the tweets of the same length\n",
    "# tweets_train = pad_sequences(tokenized_tweets, maxlen=maxlen)\n",
    "\n",
    "# filter = '!\"#$%&()*+,-./:;<=>?@[\\]^_`{|}~'"
   ]
  },
  {
   "cell_type": "markdown",
   "metadata": {},
   "source": [
    "# Grab unique characters from the input data"
   ]
  },
  {
   "cell_type": "code",
   "execution_count": 9,
   "metadata": {
    "collapsed": true
   },
   "outputs": [],
   "source": [
    "def getChars():\n",
    "\n",
    "    # change the input data into one big string and\n",
    "    # count the total number of characters \n",
    "    chars = ' '.join(preprocessed_tweets).lower()\n",
    "    \n",
    "    # get the unique characters from the text\n",
    "    unique_chars = sorted(list(set(' '.join(preprocessed_tweets).lower())))\n",
    "    unique_chars[:10]\n",
    "    \n",
    "    no_chars = len(chars)\n",
    "    no_unique_chars = len(unique_chars)\n",
    "    print(\"Total number of characters: \", no_chars)\n",
    "    print(\"Total number of unique characters: \", no_unique_chars)\n",
    "    \n",
    "    \n",
    "    # Assign a token to each character\n",
    "    token_dict_char_int = {}\n",
    "    token_dict_int_char = {}\n",
    "    for index, char in enumerate(unique_chars):\n",
    "        token_dict_char_int[char] = index    \n",
    "        token_dict_int_char[index] = char\n",
    "    \n",
    "    return chars, unique_chars, no_chars, no_unique_chars, token_dict_char_int, token_dict_int_char"
   ]
  },
  {
   "cell_type": "code",
   "execution_count": 10,
   "metadata": {},
   "outputs": [
    {
     "name": "stdout",
     "output_type": "stream",
     "text": [
      "Total number of characters:  108642445\n",
      "Total number of unique characters:  150\n"
     ]
    }
   ],
   "source": [
    "chars, unique_chars, no_chars, no_unique_chars, token_dict_char_int, token_dict_int_char = getChars()"
   ]
  },
  {
   "cell_type": "markdown",
   "metadata": {},
   "source": [
    "# Prepare input and output data"
   ]
  },
  {
   "cell_type": "code",
   "execution_count": 13,
   "metadata": {
    "collapsed": true
   },
   "outputs": [],
   "source": [
    "def prepareInputData(no_chars, token_dict, chars):\n",
    "\n",
    "    window_size = 100\n",
    "    \n",
    "    train_x = []\n",
    "    train_y = []\n",
    "    \n",
    "    for i in range(0, no_chars - window_size, 1):\n",
    "        x = chars[i:i+window_size]\n",
    "        y = chars[i+window_size]\n",
    "        \n",
    "        input_sequence = []\n",
    "        for character in x:\n",
    "            input_sequence.append(token_dict[character])\n",
    "        train_x.append(input_sequence)\n",
    "        train_y.append(token_dict[y])\n",
    "        \n",
    "    # reshape training data (samples, time steps, features)\n",
    "    x = np.reshape(train_x, (len(train_x), window_size, 1))\n",
    "\n",
    "    # normalize the training data\n",
    "    x = x/float(no_unique_chars)\n",
    "\n",
    "    # tranform the output using one hot encoding\n",
    "    y = np_utils.to_categorical(train_y)\n",
    "        \n",
    "        \n",
    "    return train_x, train_y, window_size, x, y"
   ]
  },
  {
   "cell_type": "code",
   "execution_count": 14,
   "metadata": {},
   "outputs": [
    {
     "name": "stdout",
     "output_type": "stream",
     "text": [
      "199900 199900\n"
     ]
    }
   ],
   "source": [
    "# train_x, train_y, window_size, x, y = prepareInputData(no_chars, token_dict_char_int, chars)\n",
    "train_x, train_y, window_size, x, y = prepareInputData(200000, token_dict_char_int, chars[:200000])\n",
    "print(len(train_x), len(train_y))"
   ]
  },
  {
   "cell_type": "markdown",
   "metadata": {},
   "source": [
    "# Define LSTM Model"
   ]
  },
  {
   "cell_type": "code",
   "execution_count": 15,
   "metadata": {
    "collapsed": true
   },
   "outputs": [],
   "source": [
    "def getModel():\n",
    "    \n",
    "    file_name = 'weights.hdf5'\n",
    "    \n",
    "    model = Sequential()\n",
    "    # add LSTM layer\n",
    "    model.add(LSTM(256, input_shape=(x.shape[1], x.shape[2])))\n",
    "    model.add(Dropout(0.3))\n",
    "    model.add(Dense(y.shape[1], activation='softmax'))\n",
    "    model.compile(loss='categorical_crossentropy', optimizer='adam')\n",
    "\n",
    "    \n",
    "    # record all of the network weights each time loss is improved at the end of the epoch\n",
    "    checkpoint = ModelCheckpoint(file_name, monitor='loss', verbose='1', save_best_only=True, mode='min')\n",
    "    callbacks_list = [checkpoint]\n",
    "    \n",
    "    return model, callbacks_list, file_name"
   ]
  },
  {
   "cell_type": "markdown",
   "metadata": {},
   "source": [
    "# Train LSTM Model"
   ]
  },
  {
   "cell_type": "code",
   "execution_count": 20,
   "metadata": {
    "collapsed": true
   },
   "outputs": [],
   "source": [
    "def fitModel(x, y):\n",
    "    epochs = 20\n",
    "    batch_size = 128\n",
    "    \n",
    "    # get the model\n",
    "    model,callbacks_list, file_name = getModel()\n",
    "    \n",
    "    # fit the model\n",
    "    model.fit(x, y, epochs=epochs, batch_size=batch_size, callbacks=callbacks_list)\n",
    "\n",
    "    return model, file_name"
   ]
  },
  {
   "cell_type": "code",
   "execution_count": 21,
   "metadata": {},
   "outputs": [
    {
     "name": "stdout",
     "output_type": "stream",
     "text": [
      "Epoch 1/2\n"
     ]
    },
    {
     "ename": "ResourceExhaustedError",
     "evalue": "OOM when allocating tensor with shape[64,100,1024]\n\t [[Node: lstm_3/concat_1 = ConcatV2[N=4, T=DT_FLOAT, Tidx=DT_INT32, _device=\"/job:localhost/replica:0/task:0/gpu:0\"](lstm_3/Reshape_1, lstm_3/Reshape_3, lstm_3/Reshape_5, lstm_3/Reshape_7, lstm_3/concat_1/axis)]]\n\t [[Node: mul_34/_63 = _Recv[client_terminated=false, recv_device=\"/job:localhost/replica:0/task:0/cpu:0\", send_device=\"/job:localhost/replica:0/task:0/gpu:0\", send_device_incarnation=1, tensor_name=\"edge_1481_mul_34\", tensor_type=DT_FLOAT, _device=\"/job:localhost/replica:0/task:0/cpu:0\"]()]]\n\nCaused by op 'lstm_3/concat_1', defined at:\n  File \"/sw/hprc/sw/Anaconda/3-5.0.0.1-new/envs/keras-gpu-2.0.5/lib/python3.6/runpy.py\", line 193, in _run_module_as_main\n    \"__main__\", mod_spec)\n  File \"/sw/hprc/sw/Anaconda/3-5.0.0.1-new/envs/keras-gpu-2.0.5/lib/python3.6/runpy.py\", line 85, in _run_code\n    exec(code, run_globals)\n  File \"/sw/hprc/sw/Anaconda/3-5.0.0.1-new/envs/keras-gpu-2.0.5/lib/python3.6/site-packages/ipykernel_launcher.py\", line 16, in <module>\n    app.launch_new_instance()\n  File \"/sw/hprc/sw/Anaconda/3-5.0.0.1-new/envs/keras-gpu-2.0.5/lib/python3.6/site-packages/traitlets/config/application.py\", line 658, in launch_instance\n    app.start()\n  File \"/sw/hprc/sw/Anaconda/3-5.0.0.1-new/envs/keras-gpu-2.0.5/lib/python3.6/site-packages/ipykernel/kernelapp.py\", line 477, in start\n    ioloop.IOLoop.instance().start()\n  File \"/sw/hprc/sw/Anaconda/3-5.0.0.1-new/envs/keras-gpu-2.0.5/lib/python3.6/site-packages/zmq/eventloop/ioloop.py\", line 177, in start\n    super(ZMQIOLoop, self).start()\n  File \"/sw/hprc/sw/Anaconda/3-5.0.0.1-new/envs/keras-gpu-2.0.5/lib/python3.6/site-packages/tornado/ioloop.py\", line 888, in start\n    handler_func(fd_obj, events)\n  File \"/sw/hprc/sw/Anaconda/3-5.0.0.1-new/envs/keras-gpu-2.0.5/lib/python3.6/site-packages/tornado/stack_context.py\", line 277, in null_wrapper\n    return fn(*args, **kwargs)\n  File \"/sw/hprc/sw/Anaconda/3-5.0.0.1-new/envs/keras-gpu-2.0.5/lib/python3.6/site-packages/zmq/eventloop/zmqstream.py\", line 440, in _handle_events\n    self._handle_recv()\n  File \"/sw/hprc/sw/Anaconda/3-5.0.0.1-new/envs/keras-gpu-2.0.5/lib/python3.6/site-packages/zmq/eventloop/zmqstream.py\", line 472, in _handle_recv\n    self._run_callback(callback, msg)\n  File \"/sw/hprc/sw/Anaconda/3-5.0.0.1-new/envs/keras-gpu-2.0.5/lib/python3.6/site-packages/zmq/eventloop/zmqstream.py\", line 414, in _run_callback\n    callback(*args, **kwargs)\n  File \"/sw/hprc/sw/Anaconda/3-5.0.0.1-new/envs/keras-gpu-2.0.5/lib/python3.6/site-packages/tornado/stack_context.py\", line 277, in null_wrapper\n    return fn(*args, **kwargs)\n  File \"/sw/hprc/sw/Anaconda/3-5.0.0.1-new/envs/keras-gpu-2.0.5/lib/python3.6/site-packages/ipykernel/kernelbase.py\", line 283, in dispatcher\n    return self.dispatch_shell(stream, msg)\n  File \"/sw/hprc/sw/Anaconda/3-5.0.0.1-new/envs/keras-gpu-2.0.5/lib/python3.6/site-packages/ipykernel/kernelbase.py\", line 235, in dispatch_shell\n    handler(stream, idents, msg)\n  File \"/sw/hprc/sw/Anaconda/3-5.0.0.1-new/envs/keras-gpu-2.0.5/lib/python3.6/site-packages/ipykernel/kernelbase.py\", line 399, in execute_request\n    user_expressions, allow_stdin)\n  File \"/sw/hprc/sw/Anaconda/3-5.0.0.1-new/envs/keras-gpu-2.0.5/lib/python3.6/site-packages/ipykernel/ipkernel.py\", line 196, in do_execute\n    res = shell.run_cell(code, store_history=store_history, silent=silent)\n  File \"/sw/hprc/sw/Anaconda/3-5.0.0.1-new/envs/keras-gpu-2.0.5/lib/python3.6/site-packages/ipykernel/zmqshell.py\", line 533, in run_cell\n    return super(ZMQInteractiveShell, self).run_cell(*args, **kwargs)\n  File \"/sw/hprc/sw/Anaconda/3-5.0.0.1-new/envs/keras-gpu-2.0.5/lib/python3.6/site-packages/IPython/core/interactiveshell.py\", line 2698, in run_cell\n    interactivity=interactivity, compiler=compiler, result=result)\n  File \"/sw/hprc/sw/Anaconda/3-5.0.0.1-new/envs/keras-gpu-2.0.5/lib/python3.6/site-packages/IPython/core/interactiveshell.py\", line 2802, in run_ast_nodes\n    if self.run_code(code, result):\n  File \"/sw/hprc/sw/Anaconda/3-5.0.0.1-new/envs/keras-gpu-2.0.5/lib/python3.6/site-packages/IPython/core/interactiveshell.py\", line 2862, in run_code\n    exec(code_obj, self.user_global_ns, self.user_ns)\n  File \"<ipython-input-21-c1b8b576fb30>\", line 1, in <module>\n    fitted_model, file_name = fitModel(x, y)\n  File \"<ipython-input-20-2f097aba9dd0>\", line 6, in fitModel\n    model,callbacks_list, file_name = getModel()\n  File \"<ipython-input-15-349d3a079436>\", line 7, in getModel\n    model.add(LSTM(256, input_shape=(x.shape[1], x.shape[2])))\n  File \"/sw/hprc/sw/Anaconda/3-5.0.0.1-new/envs/keras-gpu-2.0.5/lib/python3.6/site-packages/keras/models.py\", line 443, in add\n    layer(x)\n  File \"/sw/hprc/sw/Anaconda/3-5.0.0.1-new/envs/keras-gpu-2.0.5/lib/python3.6/site-packages/keras/layers/recurrent.py\", line 262, in __call__\n    return super(Recurrent, self).__call__(inputs, **kwargs)\n  File \"/sw/hprc/sw/Anaconda/3-5.0.0.1-new/envs/keras-gpu-2.0.5/lib/python3.6/site-packages/keras/engine/topology.py\", line 596, in __call__\n    output = self.call(inputs, **kwargs)\n  File \"/sw/hprc/sw/Anaconda/3-5.0.0.1-new/envs/keras-gpu-2.0.5/lib/python3.6/site-packages/keras/layers/recurrent.py\", line 333, in call\n    preprocessed_input = self.preprocess_input(inputs, training=None)\n  File \"/sw/hprc/sw/Anaconda/3-5.0.0.1-new/envs/keras-gpu-2.0.5/lib/python3.6/site-packages/keras/layers/recurrent.py\", line 1087, in preprocess_input\n    return K.concatenate([x_i, x_f, x_c, x_o], axis=2)\n  File \"/sw/hprc/sw/Anaconda/3-5.0.0.1-new/envs/keras-gpu-2.0.5/lib/python3.6/site-packages/keras/backend/tensorflow_backend.py\", line 1721, in concatenate\n    return tf.concat([to_dense(x) for x in tensors], axis)\n  File \"/sw/hprc/sw/Anaconda/3-5.0.0.1-new/envs/keras-gpu-2.0.5/lib/python3.6/site-packages/tensorflow/python/ops/array_ops.py\", line 1034, in concat\n    name=name)\n  File \"/sw/hprc/sw/Anaconda/3-5.0.0.1-new/envs/keras-gpu-2.0.5/lib/python3.6/site-packages/tensorflow/python/ops/gen_array_ops.py\", line 519, in _concat_v2\n    name=name)\n  File \"/sw/hprc/sw/Anaconda/3-5.0.0.1-new/envs/keras-gpu-2.0.5/lib/python3.6/site-packages/tensorflow/python/framework/op_def_library.py\", line 763, in apply_op\n    op_def=op_def)\n  File \"/sw/hprc/sw/Anaconda/3-5.0.0.1-new/envs/keras-gpu-2.0.5/lib/python3.6/site-packages/tensorflow/python/framework/ops.py\", line 2327, in create_op\n    original_op=self._default_original_op, op_def=op_def)\n  File \"/sw/hprc/sw/Anaconda/3-5.0.0.1-new/envs/keras-gpu-2.0.5/lib/python3.6/site-packages/tensorflow/python/framework/ops.py\", line 1226, in __init__\n    self._traceback = _extract_stack()\n\nResourceExhaustedError (see above for traceback): OOM when allocating tensor with shape[64,100,1024]\n\t [[Node: lstm_3/concat_1 = ConcatV2[N=4, T=DT_FLOAT, Tidx=DT_INT32, _device=\"/job:localhost/replica:0/task:0/gpu:0\"](lstm_3/Reshape_1, lstm_3/Reshape_3, lstm_3/Reshape_5, lstm_3/Reshape_7, lstm_3/concat_1/axis)]]\n\t [[Node: mul_34/_63 = _Recv[client_terminated=false, recv_device=\"/job:localhost/replica:0/task:0/cpu:0\", send_device=\"/job:localhost/replica:0/task:0/gpu:0\", send_device_incarnation=1, tensor_name=\"edge_1481_mul_34\", tensor_type=DT_FLOAT, _device=\"/job:localhost/replica:0/task:0/cpu:0\"]()]]\n",
     "output_type": "error",
     "traceback": [
      "\u001b[0;31m------------------------------------------------------------------\u001b[0m",
      "\u001b[0;31mResourceExhaustedError\u001b[0m           Traceback (most recent call last)",
      "\u001b[0;32m/sw/hprc/sw/Anaconda/3-5.0.0.1-new/envs/keras-gpu-2.0.5/lib/python3.6/site-packages/tensorflow/python/client/session.py\u001b[0m in \u001b[0;36m_do_call\u001b[0;34m(self, fn, *args)\u001b[0m\n\u001b[1;32m   1021\u001b[0m     \u001b[0;32mtry\u001b[0m\u001b[0;34m:\u001b[0m\u001b[0;34m\u001b[0m\u001b[0m\n\u001b[0;32m-> 1022\u001b[0;31m       \u001b[0;32mreturn\u001b[0m \u001b[0mfn\u001b[0m\u001b[0;34m(\u001b[0m\u001b[0;34m*\u001b[0m\u001b[0margs\u001b[0m\u001b[0;34m)\u001b[0m\u001b[0;34m\u001b[0m\u001b[0m\n\u001b[0m\u001b[1;32m   1023\u001b[0m     \u001b[0;32mexcept\u001b[0m \u001b[0merrors\u001b[0m\u001b[0;34m.\u001b[0m\u001b[0mOpError\u001b[0m \u001b[0;32mas\u001b[0m \u001b[0me\u001b[0m\u001b[0;34m:\u001b[0m\u001b[0;34m\u001b[0m\u001b[0m\n",
      "\u001b[0;32m/sw/hprc/sw/Anaconda/3-5.0.0.1-new/envs/keras-gpu-2.0.5/lib/python3.6/site-packages/tensorflow/python/client/session.py\u001b[0m in \u001b[0;36m_run_fn\u001b[0;34m(session, feed_dict, fetch_list, target_list, options, run_metadata)\u001b[0m\n\u001b[1;32m   1003\u001b[0m                                  \u001b[0mfeed_dict\u001b[0m\u001b[0;34m,\u001b[0m \u001b[0mfetch_list\u001b[0m\u001b[0;34m,\u001b[0m \u001b[0mtarget_list\u001b[0m\u001b[0;34m,\u001b[0m\u001b[0;34m\u001b[0m\u001b[0m\n\u001b[0;32m-> 1004\u001b[0;31m                                  status, run_metadata)\n\u001b[0m\u001b[1;32m   1005\u001b[0m \u001b[0;34m\u001b[0m\u001b[0m\n",
      "\u001b[0;32m/sw/hprc/sw/Anaconda/3-5.0.0.1-new/envs/keras-gpu-2.0.5/lib/python3.6/contextlib.py\u001b[0m in \u001b[0;36m__exit__\u001b[0;34m(self, type, value, traceback)\u001b[0m\n\u001b[1;32m     87\u001b[0m             \u001b[0;32mtry\u001b[0m\u001b[0;34m:\u001b[0m\u001b[0;34m\u001b[0m\u001b[0m\n\u001b[0;32m---> 88\u001b[0;31m                 \u001b[0mnext\u001b[0m\u001b[0;34m(\u001b[0m\u001b[0mself\u001b[0m\u001b[0;34m.\u001b[0m\u001b[0mgen\u001b[0m\u001b[0;34m)\u001b[0m\u001b[0;34m\u001b[0m\u001b[0m\n\u001b[0m\u001b[1;32m     89\u001b[0m             \u001b[0;32mexcept\u001b[0m \u001b[0mStopIteration\u001b[0m\u001b[0;34m:\u001b[0m\u001b[0;34m\u001b[0m\u001b[0m\n",
      "\u001b[0;32m/sw/hprc/sw/Anaconda/3-5.0.0.1-new/envs/keras-gpu-2.0.5/lib/python3.6/site-packages/tensorflow/python/framework/errors_impl.py\u001b[0m in \u001b[0;36mraise_exception_on_not_ok_status\u001b[0;34m()\u001b[0m\n\u001b[1;32m    465\u001b[0m           \u001b[0mcompat\u001b[0m\u001b[0;34m.\u001b[0m\u001b[0mas_text\u001b[0m\u001b[0;34m(\u001b[0m\u001b[0mpywrap_tensorflow\u001b[0m\u001b[0;34m.\u001b[0m\u001b[0mTF_Message\u001b[0m\u001b[0;34m(\u001b[0m\u001b[0mstatus\u001b[0m\u001b[0;34m)\u001b[0m\u001b[0;34m)\u001b[0m\u001b[0;34m,\u001b[0m\u001b[0;34m\u001b[0m\u001b[0m\n\u001b[0;32m--> 466\u001b[0;31m           pywrap_tensorflow.TF_GetCode(status))\n\u001b[0m\u001b[1;32m    467\u001b[0m   \u001b[0;32mfinally\u001b[0m\u001b[0;34m:\u001b[0m\u001b[0;34m\u001b[0m\u001b[0m\n",
      "\u001b[0;31mResourceExhaustedError\u001b[0m: OOM when allocating tensor with shape[64,100,1024]\n\t [[Node: lstm_3/concat_1 = ConcatV2[N=4, T=DT_FLOAT, Tidx=DT_INT32, _device=\"/job:localhost/replica:0/task:0/gpu:0\"](lstm_3/Reshape_1, lstm_3/Reshape_3, lstm_3/Reshape_5, lstm_3/Reshape_7, lstm_3/concat_1/axis)]]\n\t [[Node: mul_34/_63 = _Recv[client_terminated=false, recv_device=\"/job:localhost/replica:0/task:0/cpu:0\", send_device=\"/job:localhost/replica:0/task:0/gpu:0\", send_device_incarnation=1, tensor_name=\"edge_1481_mul_34\", tensor_type=DT_FLOAT, _device=\"/job:localhost/replica:0/task:0/cpu:0\"]()]]",
      "\nDuring handling of the above exception, another exception occurred:\n",
      "\u001b[0;31mResourceExhaustedError\u001b[0m           Traceback (most recent call last)",
      "\u001b[0;32m<ipython-input-21-c1b8b576fb30>\u001b[0m in \u001b[0;36m<module>\u001b[0;34m()\u001b[0m\n\u001b[0;32m----> 1\u001b[0;31m \u001b[0mfitted_model\u001b[0m\u001b[0;34m,\u001b[0m \u001b[0mfile_name\u001b[0m \u001b[0;34m=\u001b[0m \u001b[0mfitModel\u001b[0m\u001b[0;34m(\u001b[0m\u001b[0mx\u001b[0m\u001b[0;34m,\u001b[0m \u001b[0my\u001b[0m\u001b[0;34m)\u001b[0m\u001b[0;34m\u001b[0m\u001b[0m\n\u001b[0m",
      "\u001b[0;32m<ipython-input-20-2f097aba9dd0>\u001b[0m in \u001b[0;36mfitModel\u001b[0;34m(x, y)\u001b[0m\n\u001b[1;32m      7\u001b[0m \u001b[0;34m\u001b[0m\u001b[0m\n\u001b[1;32m      8\u001b[0m     \u001b[0;31m# fit the model\u001b[0m\u001b[0;34m\u001b[0m\u001b[0;34m\u001b[0m\u001b[0m\n\u001b[0;32m----> 9\u001b[0;31m     \u001b[0mmodel\u001b[0m\u001b[0;34m.\u001b[0m\u001b[0mfit\u001b[0m\u001b[0;34m(\u001b[0m\u001b[0mx\u001b[0m\u001b[0;34m,\u001b[0m \u001b[0my\u001b[0m\u001b[0;34m,\u001b[0m \u001b[0mepochs\u001b[0m\u001b[0;34m=\u001b[0m\u001b[0mepochs\u001b[0m\u001b[0;34m,\u001b[0m \u001b[0mbatch_size\u001b[0m\u001b[0;34m=\u001b[0m\u001b[0mbatch_size\u001b[0m\u001b[0;34m,\u001b[0m \u001b[0mcallbacks\u001b[0m\u001b[0;34m=\u001b[0m\u001b[0mcallbacks_list\u001b[0m\u001b[0;34m)\u001b[0m\u001b[0;34m\u001b[0m\u001b[0m\n\u001b[0m\u001b[1;32m     10\u001b[0m \u001b[0;34m\u001b[0m\u001b[0m\n\u001b[1;32m     11\u001b[0m     \u001b[0;32mreturn\u001b[0m \u001b[0mmodel\u001b[0m\u001b[0;34m,\u001b[0m \u001b[0mfile_name\u001b[0m\u001b[0;34m\u001b[0m\u001b[0m\n",
      "\u001b[0;32m/sw/hprc/sw/Anaconda/3-5.0.0.1-new/envs/keras-gpu-2.0.5/lib/python3.6/site-packages/keras/models.py\u001b[0m in \u001b[0;36mfit\u001b[0;34m(self, x, y, batch_size, epochs, verbose, callbacks, validation_split, validation_data, shuffle, class_weight, sample_weight, initial_epoch, **kwargs)\u001b[0m\n\u001b[1;32m    868\u001b[0m                               \u001b[0mclass_weight\u001b[0m\u001b[0;34m=\u001b[0m\u001b[0mclass_weight\u001b[0m\u001b[0;34m,\u001b[0m\u001b[0;34m\u001b[0m\u001b[0m\n\u001b[1;32m    869\u001b[0m                               \u001b[0msample_weight\u001b[0m\u001b[0;34m=\u001b[0m\u001b[0msample_weight\u001b[0m\u001b[0;34m,\u001b[0m\u001b[0;34m\u001b[0m\u001b[0m\n\u001b[0;32m--> 870\u001b[0;31m                               initial_epoch=initial_epoch)\n\u001b[0m\u001b[1;32m    871\u001b[0m \u001b[0;34m\u001b[0m\u001b[0m\n\u001b[1;32m    872\u001b[0m     def evaluate(self, x, y, batch_size=32, verbose=1,\n",
      "\u001b[0;32m/sw/hprc/sw/Anaconda/3-5.0.0.1-new/envs/keras-gpu-2.0.5/lib/python3.6/site-packages/keras/engine/training.py\u001b[0m in \u001b[0;36mfit\u001b[0;34m(self, x, y, batch_size, epochs, verbose, callbacks, validation_split, validation_data, shuffle, class_weight, sample_weight, initial_epoch, **kwargs)\u001b[0m\n\u001b[1;32m   1505\u001b[0m                               \u001b[0mval_f\u001b[0m\u001b[0;34m=\u001b[0m\u001b[0mval_f\u001b[0m\u001b[0;34m,\u001b[0m \u001b[0mval_ins\u001b[0m\u001b[0;34m=\u001b[0m\u001b[0mval_ins\u001b[0m\u001b[0;34m,\u001b[0m \u001b[0mshuffle\u001b[0m\u001b[0;34m=\u001b[0m\u001b[0mshuffle\u001b[0m\u001b[0;34m,\u001b[0m\u001b[0;34m\u001b[0m\u001b[0m\n\u001b[1;32m   1506\u001b[0m                               \u001b[0mcallback_metrics\u001b[0m\u001b[0;34m=\u001b[0m\u001b[0mcallback_metrics\u001b[0m\u001b[0;34m,\u001b[0m\u001b[0;34m\u001b[0m\u001b[0m\n\u001b[0;32m-> 1507\u001b[0;31m                               initial_epoch=initial_epoch)\n\u001b[0m\u001b[1;32m   1508\u001b[0m \u001b[0;34m\u001b[0m\u001b[0m\n\u001b[1;32m   1509\u001b[0m     \u001b[0;32mdef\u001b[0m \u001b[0mevaluate\u001b[0m\u001b[0;34m(\u001b[0m\u001b[0mself\u001b[0m\u001b[0;34m,\u001b[0m \u001b[0mx\u001b[0m\u001b[0;34m,\u001b[0m \u001b[0my\u001b[0m\u001b[0;34m,\u001b[0m \u001b[0mbatch_size\u001b[0m\u001b[0;34m=\u001b[0m\u001b[0;36m32\u001b[0m\u001b[0;34m,\u001b[0m \u001b[0mverbose\u001b[0m\u001b[0;34m=\u001b[0m\u001b[0;36m1\u001b[0m\u001b[0;34m,\u001b[0m \u001b[0msample_weight\u001b[0m\u001b[0;34m=\u001b[0m\u001b[0;32mNone\u001b[0m\u001b[0;34m)\u001b[0m\u001b[0;34m:\u001b[0m\u001b[0;34m\u001b[0m\u001b[0m\n",
      "\u001b[0;32m/sw/hprc/sw/Anaconda/3-5.0.0.1-new/envs/keras-gpu-2.0.5/lib/python3.6/site-packages/keras/engine/training.py\u001b[0m in \u001b[0;36m_fit_loop\u001b[0;34m(self, f, ins, out_labels, batch_size, epochs, verbose, callbacks, val_f, val_ins, shuffle, callback_metrics, initial_epoch)\u001b[0m\n\u001b[1;32m   1154\u001b[0m                 \u001b[0mbatch_logs\u001b[0m\u001b[0;34m[\u001b[0m\u001b[0;34m'size'\u001b[0m\u001b[0;34m]\u001b[0m \u001b[0;34m=\u001b[0m \u001b[0mlen\u001b[0m\u001b[0;34m(\u001b[0m\u001b[0mbatch_ids\u001b[0m\u001b[0;34m)\u001b[0m\u001b[0;34m\u001b[0m\u001b[0m\n\u001b[1;32m   1155\u001b[0m                 \u001b[0mcallbacks\u001b[0m\u001b[0;34m.\u001b[0m\u001b[0mon_batch_begin\u001b[0m\u001b[0;34m(\u001b[0m\u001b[0mbatch_index\u001b[0m\u001b[0;34m,\u001b[0m \u001b[0mbatch_logs\u001b[0m\u001b[0;34m)\u001b[0m\u001b[0;34m\u001b[0m\u001b[0m\n\u001b[0;32m-> 1156\u001b[0;31m                 \u001b[0mouts\u001b[0m \u001b[0;34m=\u001b[0m \u001b[0mf\u001b[0m\u001b[0;34m(\u001b[0m\u001b[0mins_batch\u001b[0m\u001b[0;34m)\u001b[0m\u001b[0;34m\u001b[0m\u001b[0m\n\u001b[0m\u001b[1;32m   1157\u001b[0m                 \u001b[0;32mif\u001b[0m \u001b[0;32mnot\u001b[0m \u001b[0misinstance\u001b[0m\u001b[0;34m(\u001b[0m\u001b[0mouts\u001b[0m\u001b[0;34m,\u001b[0m \u001b[0mlist\u001b[0m\u001b[0;34m)\u001b[0m\u001b[0;34m:\u001b[0m\u001b[0;34m\u001b[0m\u001b[0m\n\u001b[1;32m   1158\u001b[0m                     \u001b[0mouts\u001b[0m \u001b[0;34m=\u001b[0m \u001b[0;34m[\u001b[0m\u001b[0mouts\u001b[0m\u001b[0;34m]\u001b[0m\u001b[0;34m\u001b[0m\u001b[0m\n",
      "\u001b[0;32m/sw/hprc/sw/Anaconda/3-5.0.0.1-new/envs/keras-gpu-2.0.5/lib/python3.6/site-packages/keras/backend/tensorflow_backend.py\u001b[0m in \u001b[0;36m__call__\u001b[0;34m(self, inputs)\u001b[0m\n\u001b[1;32m   2267\u001b[0m         updated = session.run(self.outputs + [self.updates_op],\n\u001b[1;32m   2268\u001b[0m                               \u001b[0mfeed_dict\u001b[0m\u001b[0;34m=\u001b[0m\u001b[0mfeed_dict\u001b[0m\u001b[0;34m,\u001b[0m\u001b[0;34m\u001b[0m\u001b[0m\n\u001b[0;32m-> 2269\u001b[0;31m                               **self.session_kwargs)\n\u001b[0m\u001b[1;32m   2270\u001b[0m         \u001b[0;32mreturn\u001b[0m \u001b[0mupdated\u001b[0m\u001b[0;34m[\u001b[0m\u001b[0;34m:\u001b[0m\u001b[0mlen\u001b[0m\u001b[0;34m(\u001b[0m\u001b[0mself\u001b[0m\u001b[0;34m.\u001b[0m\u001b[0moutputs\u001b[0m\u001b[0;34m)\u001b[0m\u001b[0;34m]\u001b[0m\u001b[0;34m\u001b[0m\u001b[0m\n\u001b[1;32m   2271\u001b[0m \u001b[0;34m\u001b[0m\u001b[0m\n",
      "\u001b[0;32m/sw/hprc/sw/Anaconda/3-5.0.0.1-new/envs/keras-gpu-2.0.5/lib/python3.6/site-packages/tensorflow/python/client/session.py\u001b[0m in \u001b[0;36mrun\u001b[0;34m(self, fetches, feed_dict, options, run_metadata)\u001b[0m\n\u001b[1;32m    765\u001b[0m     \u001b[0;32mtry\u001b[0m\u001b[0;34m:\u001b[0m\u001b[0;34m\u001b[0m\u001b[0m\n\u001b[1;32m    766\u001b[0m       result = self._run(None, fetches, feed_dict, options_ptr,\n\u001b[0;32m--> 767\u001b[0;31m                          run_metadata_ptr)\n\u001b[0m\u001b[1;32m    768\u001b[0m       \u001b[0;32mif\u001b[0m \u001b[0mrun_metadata\u001b[0m\u001b[0;34m:\u001b[0m\u001b[0;34m\u001b[0m\u001b[0m\n\u001b[1;32m    769\u001b[0m         \u001b[0mproto_data\u001b[0m \u001b[0;34m=\u001b[0m \u001b[0mtf_session\u001b[0m\u001b[0;34m.\u001b[0m\u001b[0mTF_GetBuffer\u001b[0m\u001b[0;34m(\u001b[0m\u001b[0mrun_metadata_ptr\u001b[0m\u001b[0;34m)\u001b[0m\u001b[0;34m\u001b[0m\u001b[0m\n",
      "\u001b[0;32m/sw/hprc/sw/Anaconda/3-5.0.0.1-new/envs/keras-gpu-2.0.5/lib/python3.6/site-packages/tensorflow/python/client/session.py\u001b[0m in \u001b[0;36m_run\u001b[0;34m(self, handle, fetches, feed_dict, options, run_metadata)\u001b[0m\n\u001b[1;32m    963\u001b[0m     \u001b[0;32mif\u001b[0m \u001b[0mfinal_fetches\u001b[0m \u001b[0;32mor\u001b[0m \u001b[0mfinal_targets\u001b[0m\u001b[0;34m:\u001b[0m\u001b[0;34m\u001b[0m\u001b[0m\n\u001b[1;32m    964\u001b[0m       results = self._do_run(handle, final_targets, final_fetches,\n\u001b[0;32m--> 965\u001b[0;31m                              feed_dict_string, options, run_metadata)\n\u001b[0m\u001b[1;32m    966\u001b[0m     \u001b[0;32melse\u001b[0m\u001b[0;34m:\u001b[0m\u001b[0;34m\u001b[0m\u001b[0m\n\u001b[1;32m    967\u001b[0m       \u001b[0mresults\u001b[0m \u001b[0;34m=\u001b[0m \u001b[0;34m[\u001b[0m\u001b[0;34m]\u001b[0m\u001b[0;34m\u001b[0m\u001b[0m\n",
      "\u001b[0;32m/sw/hprc/sw/Anaconda/3-5.0.0.1-new/envs/keras-gpu-2.0.5/lib/python3.6/site-packages/tensorflow/python/client/session.py\u001b[0m in \u001b[0;36m_do_run\u001b[0;34m(self, handle, target_list, fetch_list, feed_dict, options, run_metadata)\u001b[0m\n\u001b[1;32m   1013\u001b[0m     \u001b[0;32mif\u001b[0m \u001b[0mhandle\u001b[0m \u001b[0;32mis\u001b[0m \u001b[0;32mNone\u001b[0m\u001b[0;34m:\u001b[0m\u001b[0;34m\u001b[0m\u001b[0m\n\u001b[1;32m   1014\u001b[0m       return self._do_call(_run_fn, self._session, feed_dict, fetch_list,\n\u001b[0;32m-> 1015\u001b[0;31m                            target_list, options, run_metadata)\n\u001b[0m\u001b[1;32m   1016\u001b[0m     \u001b[0;32melse\u001b[0m\u001b[0;34m:\u001b[0m\u001b[0;34m\u001b[0m\u001b[0m\n\u001b[1;32m   1017\u001b[0m       return self._do_call(_prun_fn, self._session, handle, feed_dict,\n",
      "\u001b[0;32m/sw/hprc/sw/Anaconda/3-5.0.0.1-new/envs/keras-gpu-2.0.5/lib/python3.6/site-packages/tensorflow/python/client/session.py\u001b[0m in \u001b[0;36m_do_call\u001b[0;34m(self, fn, *args)\u001b[0m\n\u001b[1;32m   1033\u001b[0m         \u001b[0;32mexcept\u001b[0m \u001b[0mKeyError\u001b[0m\u001b[0;34m:\u001b[0m\u001b[0;34m\u001b[0m\u001b[0m\n\u001b[1;32m   1034\u001b[0m           \u001b[0;32mpass\u001b[0m\u001b[0;34m\u001b[0m\u001b[0m\n\u001b[0;32m-> 1035\u001b[0;31m       \u001b[0;32mraise\u001b[0m \u001b[0mtype\u001b[0m\u001b[0;34m(\u001b[0m\u001b[0me\u001b[0m\u001b[0;34m)\u001b[0m\u001b[0;34m(\u001b[0m\u001b[0mnode_def\u001b[0m\u001b[0;34m,\u001b[0m \u001b[0mop\u001b[0m\u001b[0;34m,\u001b[0m \u001b[0mmessage\u001b[0m\u001b[0;34m)\u001b[0m\u001b[0;34m\u001b[0m\u001b[0m\n\u001b[0m\u001b[1;32m   1036\u001b[0m \u001b[0;34m\u001b[0m\u001b[0m\n\u001b[1;32m   1037\u001b[0m   \u001b[0;32mdef\u001b[0m \u001b[0m_extend_graph\u001b[0m\u001b[0;34m(\u001b[0m\u001b[0mself\u001b[0m\u001b[0;34m)\u001b[0m\u001b[0;34m:\u001b[0m\u001b[0;34m\u001b[0m\u001b[0m\n",
      "\u001b[0;31mResourceExhaustedError\u001b[0m: OOM when allocating tensor with shape[64,100,1024]\n\t [[Node: lstm_3/concat_1 = ConcatV2[N=4, T=DT_FLOAT, Tidx=DT_INT32, _device=\"/job:localhost/replica:0/task:0/gpu:0\"](lstm_3/Reshape_1, lstm_3/Reshape_3, lstm_3/Reshape_5, lstm_3/Reshape_7, lstm_3/concat_1/axis)]]\n\t [[Node: mul_34/_63 = _Recv[client_terminated=false, recv_device=\"/job:localhost/replica:0/task:0/cpu:0\", send_device=\"/job:localhost/replica:0/task:0/gpu:0\", send_device_incarnation=1, tensor_name=\"edge_1481_mul_34\", tensor_type=DT_FLOAT, _device=\"/job:localhost/replica:0/task:0/cpu:0\"]()]]\n\nCaused by op 'lstm_3/concat_1', defined at:\n  File \"/sw/hprc/sw/Anaconda/3-5.0.0.1-new/envs/keras-gpu-2.0.5/lib/python3.6/runpy.py\", line 193, in _run_module_as_main\n    \"__main__\", mod_spec)\n  File \"/sw/hprc/sw/Anaconda/3-5.0.0.1-new/envs/keras-gpu-2.0.5/lib/python3.6/runpy.py\", line 85, in _run_code\n    exec(code, run_globals)\n  File \"/sw/hprc/sw/Anaconda/3-5.0.0.1-new/envs/keras-gpu-2.0.5/lib/python3.6/site-packages/ipykernel_launcher.py\", line 16, in <module>\n    app.launch_new_instance()\n  File \"/sw/hprc/sw/Anaconda/3-5.0.0.1-new/envs/keras-gpu-2.0.5/lib/python3.6/site-packages/traitlets/config/application.py\", line 658, in launch_instance\n    app.start()\n  File \"/sw/hprc/sw/Anaconda/3-5.0.0.1-new/envs/keras-gpu-2.0.5/lib/python3.6/site-packages/ipykernel/kernelapp.py\", line 477, in start\n    ioloop.IOLoop.instance().start()\n  File \"/sw/hprc/sw/Anaconda/3-5.0.0.1-new/envs/keras-gpu-2.0.5/lib/python3.6/site-packages/zmq/eventloop/ioloop.py\", line 177, in start\n    super(ZMQIOLoop, self).start()\n  File \"/sw/hprc/sw/Anaconda/3-5.0.0.1-new/envs/keras-gpu-2.0.5/lib/python3.6/site-packages/tornado/ioloop.py\", line 888, in start\n    handler_func(fd_obj, events)\n  File \"/sw/hprc/sw/Anaconda/3-5.0.0.1-new/envs/keras-gpu-2.0.5/lib/python3.6/site-packages/tornado/stack_context.py\", line 277, in null_wrapper\n    return fn(*args, **kwargs)\n  File \"/sw/hprc/sw/Anaconda/3-5.0.0.1-new/envs/keras-gpu-2.0.5/lib/python3.6/site-packages/zmq/eventloop/zmqstream.py\", line 440, in _handle_events\n    self._handle_recv()\n  File \"/sw/hprc/sw/Anaconda/3-5.0.0.1-new/envs/keras-gpu-2.0.5/lib/python3.6/site-packages/zmq/eventloop/zmqstream.py\", line 472, in _handle_recv\n    self._run_callback(callback, msg)\n  File \"/sw/hprc/sw/Anaconda/3-5.0.0.1-new/envs/keras-gpu-2.0.5/lib/python3.6/site-packages/zmq/eventloop/zmqstream.py\", line 414, in _run_callback\n    callback(*args, **kwargs)\n  File \"/sw/hprc/sw/Anaconda/3-5.0.0.1-new/envs/keras-gpu-2.0.5/lib/python3.6/site-packages/tornado/stack_context.py\", line 277, in null_wrapper\n    return fn(*args, **kwargs)\n  File \"/sw/hprc/sw/Anaconda/3-5.0.0.1-new/envs/keras-gpu-2.0.5/lib/python3.6/site-packages/ipykernel/kernelbase.py\", line 283, in dispatcher\n    return self.dispatch_shell(stream, msg)\n  File \"/sw/hprc/sw/Anaconda/3-5.0.0.1-new/envs/keras-gpu-2.0.5/lib/python3.6/site-packages/ipykernel/kernelbase.py\", line 235, in dispatch_shell\n    handler(stream, idents, msg)\n  File \"/sw/hprc/sw/Anaconda/3-5.0.0.1-new/envs/keras-gpu-2.0.5/lib/python3.6/site-packages/ipykernel/kernelbase.py\", line 399, in execute_request\n    user_expressions, allow_stdin)\n  File \"/sw/hprc/sw/Anaconda/3-5.0.0.1-new/envs/keras-gpu-2.0.5/lib/python3.6/site-packages/ipykernel/ipkernel.py\", line 196, in do_execute\n    res = shell.run_cell(code, store_history=store_history, silent=silent)\n  File \"/sw/hprc/sw/Anaconda/3-5.0.0.1-new/envs/keras-gpu-2.0.5/lib/python3.6/site-packages/ipykernel/zmqshell.py\", line 533, in run_cell\n    return super(ZMQInteractiveShell, self).run_cell(*args, **kwargs)\n  File \"/sw/hprc/sw/Anaconda/3-5.0.0.1-new/envs/keras-gpu-2.0.5/lib/python3.6/site-packages/IPython/core/interactiveshell.py\", line 2698, in run_cell\n    interactivity=interactivity, compiler=compiler, result=result)\n  File \"/sw/hprc/sw/Anaconda/3-5.0.0.1-new/envs/keras-gpu-2.0.5/lib/python3.6/site-packages/IPython/core/interactiveshell.py\", line 2802, in run_ast_nodes\n    if self.run_code(code, result):\n  File \"/sw/hprc/sw/Anaconda/3-5.0.0.1-new/envs/keras-gpu-2.0.5/lib/python3.6/site-packages/IPython/core/interactiveshell.py\", line 2862, in run_code\n    exec(code_obj, self.user_global_ns, self.user_ns)\n  File \"<ipython-input-21-c1b8b576fb30>\", line 1, in <module>\n    fitted_model, file_name = fitModel(x, y)\n  File \"<ipython-input-20-2f097aba9dd0>\", line 6, in fitModel\n    model,callbacks_list, file_name = getModel()\n  File \"<ipython-input-15-349d3a079436>\", line 7, in getModel\n    model.add(LSTM(256, input_shape=(x.shape[1], x.shape[2])))\n  File \"/sw/hprc/sw/Anaconda/3-5.0.0.1-new/envs/keras-gpu-2.0.5/lib/python3.6/site-packages/keras/models.py\", line 443, in add\n    layer(x)\n  File \"/sw/hprc/sw/Anaconda/3-5.0.0.1-new/envs/keras-gpu-2.0.5/lib/python3.6/site-packages/keras/layers/recurrent.py\", line 262, in __call__\n    return super(Recurrent, self).__call__(inputs, **kwargs)\n  File \"/sw/hprc/sw/Anaconda/3-5.0.0.1-new/envs/keras-gpu-2.0.5/lib/python3.6/site-packages/keras/engine/topology.py\", line 596, in __call__\n    output = self.call(inputs, **kwargs)\n  File \"/sw/hprc/sw/Anaconda/3-5.0.0.1-new/envs/keras-gpu-2.0.5/lib/python3.6/site-packages/keras/layers/recurrent.py\", line 333, in call\n    preprocessed_input = self.preprocess_input(inputs, training=None)\n  File \"/sw/hprc/sw/Anaconda/3-5.0.0.1-new/envs/keras-gpu-2.0.5/lib/python3.6/site-packages/keras/layers/recurrent.py\", line 1087, in preprocess_input\n    return K.concatenate([x_i, x_f, x_c, x_o], axis=2)\n  File \"/sw/hprc/sw/Anaconda/3-5.0.0.1-new/envs/keras-gpu-2.0.5/lib/python3.6/site-packages/keras/backend/tensorflow_backend.py\", line 1721, in concatenate\n    return tf.concat([to_dense(x) for x in tensors], axis)\n  File \"/sw/hprc/sw/Anaconda/3-5.0.0.1-new/envs/keras-gpu-2.0.5/lib/python3.6/site-packages/tensorflow/python/ops/array_ops.py\", line 1034, in concat\n    name=name)\n  File \"/sw/hprc/sw/Anaconda/3-5.0.0.1-new/envs/keras-gpu-2.0.5/lib/python3.6/site-packages/tensorflow/python/ops/gen_array_ops.py\", line 519, in _concat_v2\n    name=name)\n  File \"/sw/hprc/sw/Anaconda/3-5.0.0.1-new/envs/keras-gpu-2.0.5/lib/python3.6/site-packages/tensorflow/python/framework/op_def_library.py\", line 763, in apply_op\n    op_def=op_def)\n  File \"/sw/hprc/sw/Anaconda/3-5.0.0.1-new/envs/keras-gpu-2.0.5/lib/python3.6/site-packages/tensorflow/python/framework/ops.py\", line 2327, in create_op\n    original_op=self._default_original_op, op_def=op_def)\n  File \"/sw/hprc/sw/Anaconda/3-5.0.0.1-new/envs/keras-gpu-2.0.5/lib/python3.6/site-packages/tensorflow/python/framework/ops.py\", line 1226, in __init__\n    self._traceback = _extract_stack()\n\nResourceExhaustedError (see above for traceback): OOM when allocating tensor with shape[64,100,1024]\n\t [[Node: lstm_3/concat_1 = ConcatV2[N=4, T=DT_FLOAT, Tidx=DT_INT32, _device=\"/job:localhost/replica:0/task:0/gpu:0\"](lstm_3/Reshape_1, lstm_3/Reshape_3, lstm_3/Reshape_5, lstm_3/Reshape_7, lstm_3/concat_1/axis)]]\n\t [[Node: mul_34/_63 = _Recv[client_terminated=false, recv_device=\"/job:localhost/replica:0/task:0/cpu:0\", send_device=\"/job:localhost/replica:0/task:0/gpu:0\", send_device_incarnation=1, tensor_name=\"edge_1481_mul_34\", tensor_type=DT_FLOAT, _device=\"/job:localhost/replica:0/task:0/cpu:0\"]()]]\n"
     ]
    }
   ],
   "source": [
    "fitted_model, file_name = fitModel(x, y)"
   ]
  },
  {
   "cell_type": "markdown",
   "metadata": {},
   "source": [
    "# Genertae Text with LSTM Model"
   ]
  },
  {
   "cell_type": "code",
   "execution_count": null,
   "metadata": {
    "collapsed": true
   },
   "outputs": [],
   "source": [
    "def generateText(file_name, model, train_x, sequence_length):\n",
    "    model.load_weights(filename)\n",
    "    model.compile(loss='categorical_crossentropy', optimizer='adam')\n",
    "    \n",
    "    rand_start = np.random.randint(0, len(train_x) - 1)\n",
    "    starting_seq = train_x[rand_start]\n",
    "    \n",
    "    print(\"Seed: \")\n",
    "    print(\"\\\"\", ''.join([token_dict_int_char[val] for cal in starting_seq]))\n",
    "    \n",
    "    \n",
    "    # generate characters\n",
    "    for i in range(sequence_length):\n",
    "        x = np.reshape(starting_seq, (1, len(starting_seq), 1))\n",
    "        x = x/float(no_unique_chars)\n",
    "        \n",
    "        pred = model.predict(x, verbose=0)\n",
    "        index = np.argmax(pred)\n",
    "        final_output = token_dict_int_char[index]\n",
    "        x_in = [token_dict_int_char[val] for val in starting_seq]\n",
    "        sys.stdout.write(final_output)\n",
    "        starting_seq.append(index)\n",
    "        starting_seq = starting_seq[1:len(starting_seq)]\n",
    "        \n",
    "    print(\"done\")"
   ]
  },
  {
   "cell_type": "code",
   "execution_count": null,
   "metadata": {
    "collapsed": true
   },
   "outputs": [],
   "source": [
    "generateText(file_name, fitted_model, train_x, 300)"
   ]
  }
 ],
 "metadata": {
  "kernelspec": {
   "display_name": "Python 3",
   "language": "python",
   "name": "python3"
  },
  "language_info": {
   "codemirror_mode": {
    "name": "ipython",
    "version": 3
   },
   "file_extension": ".py",
   "mimetype": "text/x-python",
   "name": "python",
   "nbconvert_exporter": "python",
   "pygments_lexer": "ipython3",
   "version": "3.6.2"
  }
 },
 "nbformat": 4,
 "nbformat_minor": 2
}
